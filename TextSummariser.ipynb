{
  "nbformat": 4,
  "nbformat_minor": 0,
  "metadata": {
    "colab": {
      "provenance": [],
      "authorship_tag": "ABX9TyPbodReeZZtj3jZDYLVqhQK",
      "include_colab_link": true
    },
    "kernelspec": {
      "name": "python3",
      "display_name": "Python 3"
    },
    "language_info": {
      "name": "python"
    }
  },
  "cells": [
    {
      "cell_type": "markdown",
      "metadata": {
        "id": "view-in-github",
        "colab_type": "text"
      },
      "source": [
        "<a href=\"https://colab.research.google.com/github/SriMahith27/Text_Summariset/blob/main/TextSummariser.ipynb\" target=\"_parent\"><img src=\"https://colab.research.google.com/assets/colab-badge.svg\" alt=\"Open In Colab\"/></a>"
      ]
    },
    {
      "cell_type": "code",
      "execution_count": 2,
      "metadata": {
        "colab": {
          "base_uri": "https://localhost:8080/"
        },
        "id": "byxd6gRjJyQ3",
        "outputId": "e4c8944a-5b44-4f48-d45e-219aa7a7141f"
      },
      "outputs": [
        {
          "output_type": "stream",
          "name": "stdout",
          "text": [
            "Collecting en-core-web-sm==3.8.0\n",
            "  Downloading https://github.com/explosion/spacy-models/releases/download/en_core_web_sm-3.8.0/en_core_web_sm-3.8.0-py3-none-any.whl (12.8 MB)\n",
            "\u001b[2K     \u001b[90m━━━━━━━━━━━━━━━━━━━━━━━━━━━━━━━━━━━━━━━━\u001b[0m \u001b[32m12.8/12.8 MB\u001b[0m \u001b[31m39.1 MB/s\u001b[0m eta \u001b[36m0:00:00\u001b[0m\n",
            "\u001b[?25h\u001b[38;5;2m✔ Download and installation successful\u001b[0m\n",
            "You can now load the package via spacy.load('en_core_web_sm')\n",
            "\u001b[38;5;3m⚠ Restart to reload dependencies\u001b[0m\n",
            "If you are in a Jupyter or Colab notebook, you may need to restart Python in\n",
            "order to load all the package's dependencies. You can do this by selecting the\n",
            "'Restart kernel' or 'Restart runtime' option.\n",
            "=== Summary ===\n",
            "\n",
            "Climate change refers to long-term shifts in temperatures and weather patterns, mainly caused by human activities such as burning fossil fuels. These changes have severe impacts on ecosystems, sea levels, and weather extremes worldwide. Reducing greenhouse gas emissions and adopting sustainable practices are crucial to mitigating these effects.\n",
            "\n"
          ]
        }
      ],
      "source": [
        "# Install spaCy and model (run once)\n",
        "!pip install -q spacy\n",
        "!python -m spacy download en_core_web_sm\n",
        "\n",
        "import spacy\n",
        "from heapq import nlargest\n",
        "\n",
        "# Load spaCy model\n",
        "nlp = spacy.load(\"en_core_web_sm\")\n",
        "\n",
        "def summarize_text(text, num_sentences=3):\n",
        "    doc = nlp(text)\n",
        "    word_frequencies = {}\n",
        "    stopwords = nlp.Defaults.stop_words\n",
        "\n",
        "    for word in doc:\n",
        "        if word.text.lower() not in stopwords and word.is_alpha:\n",
        "            word_frequencies[word.text.lower()] = word_frequencies.get(word.text.lower(), 0) + 1\n",
        "\n",
        "    max_freq = max(word_frequencies.values(), default=1)\n",
        "    for word in word_frequencies:\n",
        "        word_frequencies[word] /= max_freq\n",
        "\n",
        "    sentence_scores = {}\n",
        "    for sent in doc.sents:\n",
        "        for word in sent:\n",
        "            if word.text.lower() in word_frequencies:\n",
        "                sentence_scores[sent] = sentence_scores.get(sent, 0) + word_frequencies[word.text.lower()]\n",
        "\n",
        "    summarized = nlargest(num_sentences, sentence_scores, key=sentence_scores.get)\n",
        "    return ' '.join([sent.text for sent in summarized])\n",
        "\n",
        "# Example text (change to your text)\n",
        "input_text = \"\"\"\n",
        "Climate change refers to long-term shifts in temperatures and weather patterns, mainly caused by human activities such as burning fossil fuels. These changes have severe impacts on ecosystems, sea levels, and weather extremes worldwide. Reducing greenhouse gas emissions and adopting sustainable practices are crucial to mitigating these effects.\n",
        "\"\"\"\n",
        "\n",
        "# Number of sentences for summary\n",
        "num_sentences = 3\n",
        "\n",
        "# Generate and print summary\n",
        "summary = summarize_text(input_text, num_sentences)\n",
        "print(\"=== Summary ===\")\n",
        "print(summary)\n",
        "\n",
        "\n"
      ]
    }
  ]
}